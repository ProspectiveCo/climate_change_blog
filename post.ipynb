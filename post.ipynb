{
 "cells": [
  {
   "cell_type": "markdown",
   "id": "f5214aa0-5f8e-4994-884a-3e7e6cf2c624",
   "metadata": {},
   "source": [
    "# Telling Your Data's Story\n",
    "\n",
    "Prospective is a tool for telling the story of your data. Today we are going to be telling a story about climate change. This story is illustrative of the various stories you can tell about _your_ data. \n",
    "Making reports, presentation, and other 'exportables' are all possible with the Perspective tool.\n",
    "\n",
    "## Climate\n",
    "\n",
    "We are facing numerous crises in the world today. One of the most pressing is certainly climate change. The data is in, and we need to do something. One thing that Prospective can do is help you tell the story of your data.\n",
    "\n",
    "Today we are going to be looking at a few data sets and talking about how they form a compelling story about the action that we must take to save our planet! We can do it together, as long as we have a clear understanding of the problems we face.\n",
    "\n",
    "The data is of global temperature, glacier temperatures, and our fossil fuel usage. Lets tell a story!"
   ]
  },
  {
   "cell_type": "code",
   "execution_count": 1,
   "id": "98ce01b8-f4b3-482f-864f-7aa6c3b6fe51",
   "metadata": {
    "tags": []
   },
   "outputs": [
    {
     "ename": "ImportError",
     "evalue": "cannot import name 'Table' from 'perspective' (/Users/davis/Library/Python/3.9/lib/python/site-packages/perspective/__init__.py)",
     "output_type": "error",
     "traceback": [
      "\u001b[0;31m---------------------------------------------------------------------------\u001b[0m",
      "\u001b[0;31mImportError\u001b[0m                               Traceback (most recent call last)",
      "Cell \u001b[0;32mIn[1], line 1\u001b[0m\n\u001b[0;32m----> 1\u001b[0m \u001b[38;5;28;01mfrom\u001b[39;00m \u001b[38;5;21;01mperspective\u001b[39;00m \u001b[38;5;28;01mimport\u001b[39;00m Table, PerspectiveWidget\n\u001b[1;32m      2\u001b[0m \u001b[38;5;28;01mimport\u001b[39;00m \u001b[38;5;21;01mpandas\u001b[39;00m \u001b[38;5;28;01mas\u001b[39;00m \u001b[38;5;21;01mpd\u001b[39;00m \u001b[38;5;66;03m# For data manipulation\u001b[39;00m\n\u001b[1;32m      3\u001b[0m \u001b[38;5;28;01mimport\u001b[39;00m \u001b[38;5;21;01mxarray\u001b[39;00m \u001b[38;5;28;01mas\u001b[39;00m \u001b[38;5;21;01mxr\u001b[39;00m \u001b[38;5;66;03m# For parsing temperature data\u001b[39;00m\n",
      "\u001b[0;31mImportError\u001b[0m: cannot import name 'Table' from 'perspective' (/Users/davis/Library/Python/3.9/lib/python/site-packages/perspective/__init__.py)"
     ]
    }
   ],
   "source": [
    "from perspective import Table, PerspectiveWidget\n",
    "import pandas as pd # For data manipulation\n",
    "import xarray as xr # For parsing temperature data"
   ]
  },
  {
   "cell_type": "markdown",
   "id": "7d7fd274-779a-47f8-b498-1c84272d5f60",
   "metadata": {},
   "source": [
    "## Global Temperature\n",
    "\n",
    "The first data in our story is of global temperature over time.\n",
    "The data is from [Berkeley Earth](https://berkeleyearth.org/data/) (the 5°x5° gridded global data).\n",
    "\n",
    "This is the most straightforward data, a climate heat-map."
   ]
  },
  {
   "cell_type": "code",
   "execution_count": null,
   "id": "dd91c48f-9bd1-43d5-8c8f-f3ae266c7635",
   "metadata": {},
   "outputs": [],
   "source": [
    "nc = xr.open_dataset('temperature/temp.nc')\n",
    "df = nc.temperature.to_dataframe()\n",
    "# This flattens the indexing in the NetCDF file.\n",
    "df = pd.DataFrame(df.to_records())\n",
    "df.to_feather(\"temperature.arrow\")\n",
    "temperature = Table(df)"
   ]
  },
  {
   "cell_type": "code",
   "execution_count": null,
   "id": "a741840c-c765-4679-9f9a-b29ca8f0bc61",
   "metadata": {},
   "outputs": [],
   "source": [
    "# with open(\"temperature.arrow\", 'rb') as f:\n",
    "#     feather = f.read()\n",
    "\n",
    "tw_map_layout = {\n",
    "    'filter': [['integer(\"time\")', '==', 2022]],\n",
    "    'columns': ['longitude', 'latitude', '- \"temperature\"', None, None],\n",
    "    'expressions': ['integer(\"time\")', '- \"temperature\"'],\n",
    "    'plugin': 'Map Scatter'\n",
    "}\n",
    "\n",
    "tw = PerspectiveWidget(temperature, server=True, **tw_map_layout)\n",
    "tw"
   ]
  },
  {
   "cell_type": "markdown",
   "id": "511406a3-2ada-42f2-8b63-0b3dcd6bb56b",
   "metadata": {},
   "source": [
    "Here we are showing anomalies of temperature. The darker red the dots, the hotter than expected. In fact, these data are quite huge! If you look at the top-bar you see we are processing ***5 MILLION*** rows of data in just a few seconds. \n",
    "This processing is done entirely in your browser, so congratulate yourself on your workhorse of a computer!\n",
    "\n",
    "Let's look at the average temperature anomaly over time!"
   ]
  },
  {
   "cell_type": "code",
   "execution_count": null,
   "id": "994a4a22-e94c-4042-b324-059e426ff429",
   "metadata": {},
   "outputs": [],
   "source": [
    "ttsw_layout = {\n",
    "    'group_by': ['year'],\n",
    "    'aggregates': {'temperature': 'avg'},\n",
    "    'columns': ['temperature'],\n",
    "    'expressions': ['// year\\ninteger(\"time\")'],\n",
    "    'plugin': 'Y Line',\n",
    "    'title': 'Temperature Time Series'\n",
    "}\n",
    "\n",
    "ttsw = PerspectiveWidget(temperature, server=True, **ttsw_layout)\n",
    "ttsw"
   ]
  },
  {
   "cell_type": "markdown",
   "id": "1441fdf2-3c51-40a9-9a07-f22030c05684",
   "metadata": {},
   "source": [
    "Here we can see that the expected temperatures are growing over time. This is clearly a trend, there is not simple random anomly."
   ]
  },
  {
   "cell_type": "markdown",
   "id": "5b112bd1-c883-4407-9929-d9f7dd7df7a2",
   "metadata": {},
   "source": [
    "So what does rising temperature mean? It can mean hotter summers, disrupted plant cycles, and flooding of coastal cities, among others. In the context of telling a story, let's dive into one of those points: the flooding. To do this, we turn to our next dataset, glacier temperatures."
   ]
  },
  {
   "cell_type": "markdown",
   "id": "f7a577c1-1dd3-4943-9b65-46046ee4fada",
   "metadata": {},
   "source": [
    "# Glaciers\n",
    "\n",
    "This data is sourced from the \n",
    "[United States Geological Survey](https://alaska.usgs.gov/products/data.php?dataid=79).\n",
    "\n",
    "We will start with some light data-preparation. Simply concatenating all the CSVs and outputting to the efficient Arrow format, that Perspective understands natively."
   ]
  },
  {
   "cell_type": "code",
   "execution_count": null,
   "id": "7e8b34ac-4a04-474c-ae63-e6a6f2bc3bf6",
   "metadata": {
    "tags": []
   },
   "outputs": [],
   "source": [
    "dfs = []\n",
    "for g in [\"Gulkana\", \"LemonCreek\", \"Sperry\", \"Wolverine\"]:\n",
    "    p = f\"glaciers/{g}/Input_{g}_Daily_Weather.csv\"\n",
    "    df = pd.read_csv(p, parse_dates=['Date'])\n",
    "    df[\"Glacier\"] = g\n",
    "    del df[\"Precipitation\"]\n",
    "    dfs.append(df)\n",
    "weather = pd.concat(dfs, ignore_index=True)\n",
    "weather.to_feather(\"./glacier_daily_weather.arrow\")\n",
    "weather = Table(weather)\n"
   ]
  },
  {
   "cell_type": "markdown",
   "id": "0135d4bf-7b16-4054-9a42-644a47eaf3e4",
   "metadata": {},
   "source": [
    "It was quite easy to take these CSVs and merge them together. We can then plot this data directly into perspective."
   ]
  },
  {
   "cell_type": "code",
   "execution_count": null,
   "id": "330826ca-4218-40b6-8286-c7f6a0be50df",
   "metadata": {
    "scrolled": true
   },
   "outputs": [],
   "source": [
    "# with open(\"glacier_daily_weather.arrow\", 'rb') as f:\n",
    "#     feather = f.read()\n",
    "\n",
    "ww_layout = {\n",
    "    'group_by': ['bucket(\"Date\", \\'Y\\')'],\n",
    "    'split_by': ['Glacier'],\n",
    "    'aggregates': {'Temperature': 'avg'},\n",
    "    'columns': ['Temperature'],\n",
    "    'expressions': ['bucket(\"Date\", \\'Y\\')'],\n",
    "    'plugin': 'Y Line'\n",
    "}\n",
    "\n",
    "ww = PerspectiveWidget(weather, server=True, **ww_layout)\n",
    "ww"
   ]
  },
  {
   "cell_type": "markdown",
   "id": "820ccb83-2ebb-4874-aaa9-96a3e031e006",
   "metadata": {},
   "source": [
    "Here, we are looking at yearly average temperatures for 4 different glaciers in Alaska. In Perspective this was done by using the \"avg\" aggregator, and bucketing our dates by the year. By converting the data to arrow (and doing some light [pre-processing](https://prospective.co/blog/preparing-data-to-be-used-in-prospective)), we can load and process all 75,000 rows quite quickly. The chart above is completely live, go play with the configuration!\n",
    "\n",
    "Here, we can see that Glaciers are spending a lot of time above melting-point. What does this mean?\n",
    "Melting Alaskan glaciers are believed to contribute somewhere between 10% and 30% of global sea water ([source](https://www.nature.com/articles/ngeo737/)), with other main sources including Arctic and Greenland glaciers.\n",
    "\n",
    "Let's round out this story with a main contributor to this glacial melting: fossil fuel usage."
   ]
  },
  {
   "cell_type": "markdown",
   "id": "b2b5889a-9a29-4252-8e5c-4f5d195b4ff1",
   "metadata": {},
   "source": [
    "## Fossil Fuels\n",
    "\n",
    "One of the main ways we can begin to transition from fossil fuels is with renewable energy.\n",
    "Every year we make extremely impactful advances on the path to sustainability through \n",
    "renewable energy and better local and global programs.\n",
    "\n",
    "But the only way we can truly prevent a climate tragedy is to divest from fossil fuels.\n",
    "If we are still using fossil fuels, then we are not going to fully solve our problems.\n",
    "Let's look at how much energy we use, and see if there is any good stories here.\n",
    "\n",
    "Data from \n",
    "https://ourworldindata.org/grapher/energy-consumption-by-source-and-country"
   ]
  },
  {
   "cell_type": "code",
   "execution_count": null,
   "id": "c933e591-09ba-4d74-ace0-f7f147f89288",
   "metadata": {},
   "outputs": [],
   "source": [
    "df = pd.read_csv(\"energy.csv\")\n",
    "# Unpivot the data given by the source.\n",
    "df = df.melt(value_vars=df.columns[3:], \n",
    "             id_vars=df.columns[:3], \n",
    "             var_name=\"Type\",\n",
    "             value_name=\"TWh\")\n",
    "df.to_feather(\"energy.arrow\")\n",
    "energy = Table(df)"
   ]
  },
  {
   "cell_type": "markdown",
   "id": "cc87ee0a-d1d1-466c-9a94-ede54f44afe7",
   "metadata": {},
   "source": [
    "In just a couple lines of code, we have a great dataset regarding energy usage globally."
   ]
  },
  {
   "cell_type": "code",
   "execution_count": null,
   "id": "d88dc54b-3510-440b-8fcb-54d842d71c79",
   "metadata": {},
   "outputs": [],
   "source": [
    "# with open(\"energy.arrow\", 'rb') as f:\n",
    "#     feather = f.read()\n",
    "\n",
    "# Some ExprTK Expressions to control \n",
    "# the output visualization\n",
    "continent = \"\"\"\n",
    "// Continent\n",
    "(\n",
    "    \"Entity\" == 'Africa' or\n",
    "    \"Entity\" == 'Asia' or\n",
    "    \"Entity\" == 'Europe' or\n",
    "    \"Entity\" == 'North America' or\n",
    "    \"Entity\" == 'Oceania' or\n",
    "    \"Entity\" == 'South America'\n",
    ")\n",
    "\"\"\".strip()\n",
    "\n",
    "fossils = \"\"\"\n",
    "// Fossil Fuels\n",
    "(\n",
    "    \"Type\" == 'Oil consumption - TWh' or\n",
    "    \"Type\" == 'Coal consumption - TWh' or\n",
    "    \"Type\" == 'Gas consumption - TWh'\n",
    ")\n",
    "\"\"\".strip()\n",
    "\n",
    "fw_layout = {\n",
    "    'group_by': ['Year'],\n",
    "    'split_by': ['Entity'],\n",
    "    'filter': [['Continent', '==', True], \n",
    "               ['Fossil Fuels', '==', True]],\n",
    "    'aggregates': {'TWh': 'avg'},\n",
    "    'columns': ['TWh'],\n",
    "    'expressions': [continent, fossils],\n",
    "    'plugin': 'Y Area',\n",
    "    'plugin_config': {'legend': {'left': '56px', 'top': '10px'}},\n",
    "}\n",
    "\n",
    "fw = PerspectiveWidget(energy, server=True, **fw_layout)\n",
    "fw"
   ]
  },
  {
   "cell_type": "markdown",
   "id": "674275b6-e935-4bdf-9bbb-f6d2f4324c91",
   "metadata": {},
   "source": [
    "We can see here that overall fossil fuel consumption is still rising. Of course, carbon consumption increasing means that the level of greenhouse gasses in the atmosphere will also increase.\n",
    "\n",
    "How about renewables?\n"
   ]
  },
  {
   "cell_type": "code",
   "execution_count": null,
   "id": "61ae87ae-cb38-43a2-9ba1-ccda7b4abdd2",
   "metadata": {
    "scrolled": true
   },
   "outputs": [],
   "source": [
    "\n",
    "layout_renewables = {\n",
    "    'group_by': ['Year'],\n",
    "    'split_by': ['Entity'],\n",
    "    'filter': [['Continent', '==', True], ['Fossil Fuels', '==', False]],\n",
    "    'aggregates': {'TWh': 'avg'},\n",
    "    'columns': ['TWh'],\n",
    "    'expressions': [continent, fossils],\n",
    "    'plugin': 'Y Area',\n",
    "    'plugin_config': {'legend': {'left': '56px', 'top': '10px'}},\n",
    "}\n",
    "renewables = PerspectiveWidget(energy, server=True, **layout_renewables)\n",
    "renewables"
   ]
  },
  {
   "cell_type": "markdown",
   "id": "dcab5f09-1a6b-4845-9c58-f72a24500e2f",
   "metadata": {},
   "source": [
    "\n",
    "It is amazing how fast we have all switched over to renewables! "
   ]
  },
  {
   "cell_type": "markdown",
   "id": "51ae227d-c384-440b-9806-eee316619f86",
   "metadata": {},
   "source": [
    "# Conclusion\n",
    "\n",
    "Today we have gone through a couple datasets, and weaved a story throughout.\n",
    "\n",
    "Prospective is the data visualization, data exploration, and story telling tool for all of your data.\n",
    "Easily embeddable, configurable, and lightweight, your story is just waiting to be told. Start now!"
   ]
  }
 ],
 "metadata": {
  "kernelspec": {
   "display_name": "Python 3 (ipykernel)",
   "language": "python",
   "name": "python3"
  },
  "language_info": {
   "codemirror_mode": {
    "name": "ipython",
    "version": 3
   },
   "file_extension": ".py",
   "mimetype": "text/x-python",
   "name": "python",
   "nbconvert_exporter": "python",
   "pygments_lexer": "ipython3",
   "version": "3.9.6"
  }
 },
 "nbformat": 4,
 "nbformat_minor": 5
}
