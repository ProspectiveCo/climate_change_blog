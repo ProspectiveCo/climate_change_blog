{
 "cells": [
  {
   "cell_type": "markdown",
   "id": "f5214aa0-5f8e-4994-884a-3e7e6cf2c624",
   "metadata": {
    "tags": []
   },
   "source": [
    "# Telling Your Data's Story\n",
    "\n",
    "Prospective is a tool for telling the story of your data. Today we are going to be telling a story about climate change. This story is illustrative of the various stories you can tell about _your_ data. \n",
    "Making reports, presentation, and other 'exportables' are all possible with the Perspective tool.\n",
    "\n",
    "## Climate\n",
    "\n",
    "We are facing numerous crises in the world today. One of the most pressing is certainly climate change. The data is in, and we need to do something. We can use the Perspective visualizer to help tell the story of climate change.\n",
    "\n",
    "Today we are going to be looking at a few data sets and talking about how they form a compelling story about the action that we must take to save our planet! We can do it together, as long as we have a clear understanding of the problems we face.\n",
    "\n",
    "The data is of global temperature, glacier temperatures, and our fossil fuel usage. Lets tell a story!"
   ]
  },
  {
   "cell_type": "code",
   "execution_count": 1,
   "id": "22017ee1-3b21-4900-9643-2feabc222ae0",
   "metadata": {
    "tags": []
   },
   "outputs": [
    {
     "name": "stdout",
     "output_type": "stream",
     "text": [
      "Defaulting to user installation because normal site-packages is not writeable\n",
      "Requirement already satisfied: perspective-python in /Users/davis/Library/Python/3.9/lib/python/site-packages (2.5.1)\n",
      "Requirement already satisfied: pandas in /Users/davis/Library/Python/3.9/lib/python/site-packages (1.5.3)\n",
      "Requirement already satisfied: xarray in /Users/davis/Library/Python/3.9/lib/python/site-packages (2023.9.0)\n",
      "Requirement already satisfied: netcdf4 in /Users/davis/Library/Python/3.9/lib/python/site-packages (1.6.4)\n",
      "Requirement already satisfied: ipywidgets<9,>=7.5.1 in /Users/davis/Library/Python/3.9/lib/python/site-packages (from perspective-python) (8.1.1)\n",
      "Requirement already satisfied: future<1,>=0.16.0 in /Users/davis/Library/Python/3.9/lib/python/site-packages (from perspective-python) (0.18.3)\n",
      "Requirement already satisfied: numpy<2,>=1.21.6 in /Users/davis/Library/Python/3.9/lib/python/site-packages (from perspective-python) (1.26.0)\n",
      "Requirement already satisfied: python-dateutil<3,>=2.8.0 in /Users/davis/Library/Python/3.9/lib/python/site-packages (from perspective-python) (2.8.2)\n",
      "Requirement already satisfied: traitlets<6,>=4.3.2 in /Users/davis/Library/Python/3.9/lib/python/site-packages (from perspective-python) (5.10.0)\n",
      "Requirement already satisfied: pytz>=2020.1 in /Users/davis/Library/Python/3.9/lib/python/site-packages (from pandas) (2023.3.post1)\n",
      "Requirement already satisfied: packaging>=21.3 in /Users/davis/Library/Python/3.9/lib/python/site-packages (from xarray) (23.1)\n",
      "Requirement already satisfied: cftime in /Users/davis/Library/Python/3.9/lib/python/site-packages (from netcdf4) (1.6.2)\n",
      "Requirement already satisfied: certifi in /Users/davis/Library/Python/3.9/lib/python/site-packages (from netcdf4) (2023.7.22)\n",
      "Requirement already satisfied: comm>=0.1.3 in /Users/davis/Library/Python/3.9/lib/python/site-packages (from ipywidgets<9,>=7.5.1->perspective-python) (0.1.4)\n",
      "Requirement already satisfied: ipython>=6.1.0 in /Users/davis/Library/Python/3.9/lib/python/site-packages (from ipywidgets<9,>=7.5.1->perspective-python) (8.14.0)\n",
      "Requirement already satisfied: widgetsnbextension~=4.0.9 in /Users/davis/Library/Python/3.9/lib/python/site-packages (from ipywidgets<9,>=7.5.1->perspective-python) (4.0.9)\n",
      "Requirement already satisfied: jupyterlab-widgets~=3.0.9 in /Users/davis/Library/Python/3.9/lib/python/site-packages (from ipywidgets<9,>=7.5.1->perspective-python) (3.0.9)\n",
      "Requirement already satisfied: six>=1.5 in /Users/davis/Library/Python/3.9/lib/python/site-packages (from python-dateutil<3,>=2.8.0->perspective-python) (1.16.0)\n",
      "Requirement already satisfied: backcall in /Users/davis/Library/Python/3.9/lib/python/site-packages (from ipython>=6.1.0->ipywidgets<9,>=7.5.1->perspective-python) (0.2.0)\n",
      "Requirement already satisfied: decorator in /Users/davis/Library/Python/3.9/lib/python/site-packages (from ipython>=6.1.0->ipywidgets<9,>=7.5.1->perspective-python) (5.1.1)\n",
      "Requirement already satisfied: jedi>=0.16 in /Users/davis/Library/Python/3.9/lib/python/site-packages (from ipython>=6.1.0->ipywidgets<9,>=7.5.1->perspective-python) (0.19.0)\n",
      "Requirement already satisfied: matplotlib-inline in /Users/davis/Library/Python/3.9/lib/python/site-packages (from ipython>=6.1.0->ipywidgets<9,>=7.5.1->perspective-python) (0.1.6)\n",
      "Requirement already satisfied: pickleshare in /Users/davis/Library/Python/3.9/lib/python/site-packages (from ipython>=6.1.0->ipywidgets<9,>=7.5.1->perspective-python) (0.7.5)\n",
      "Requirement already satisfied: prompt-toolkit!=3.0.37,<3.1.0,>=3.0.30 in /Users/davis/Library/Python/3.9/lib/python/site-packages (from ipython>=6.1.0->ipywidgets<9,>=7.5.1->perspective-python) (3.0.39)\n",
      "Requirement already satisfied: pygments>=2.4.0 in /Users/davis/Library/Python/3.9/lib/python/site-packages (from ipython>=6.1.0->ipywidgets<9,>=7.5.1->perspective-python) (2.15.1)\n",
      "Requirement already satisfied: stack-data in /Users/davis/Library/Python/3.9/lib/python/site-packages (from ipython>=6.1.0->ipywidgets<9,>=7.5.1->perspective-python) (0.6.2)\n",
      "Requirement already satisfied: typing-extensions in /Users/davis/Library/Python/3.9/lib/python/site-packages (from ipython>=6.1.0->ipywidgets<9,>=7.5.1->perspective-python) (4.7.1)\n",
      "Requirement already satisfied: pexpect>4.3 in /Users/davis/Library/Python/3.9/lib/python/site-packages (from ipython>=6.1.0->ipywidgets<9,>=7.5.1->perspective-python) (4.8.0)\n",
      "Requirement already satisfied: appnope in /Users/davis/Library/Python/3.9/lib/python/site-packages (from ipython>=6.1.0->ipywidgets<9,>=7.5.1->perspective-python) (0.1.3)\n",
      "Requirement already satisfied: parso<0.9.0,>=0.8.3 in /Users/davis/Library/Python/3.9/lib/python/site-packages (from jedi>=0.16->ipython>=6.1.0->ipywidgets<9,>=7.5.1->perspective-python) (0.8.3)\n",
      "Requirement already satisfied: ptyprocess>=0.5 in /Users/davis/Library/Python/3.9/lib/python/site-packages (from pexpect>4.3->ipython>=6.1.0->ipywidgets<9,>=7.5.1->perspective-python) (0.7.0)\n",
      "Requirement already satisfied: wcwidth in /Users/davis/Library/Python/3.9/lib/python/site-packages (from prompt-toolkit!=3.0.37,<3.1.0,>=3.0.30->ipython>=6.1.0->ipywidgets<9,>=7.5.1->perspective-python) (0.2.6)\n",
      "Requirement already satisfied: executing>=1.2.0 in /Users/davis/Library/Python/3.9/lib/python/site-packages (from stack-data->ipython>=6.1.0->ipywidgets<9,>=7.5.1->perspective-python) (1.2.0)\n",
      "Requirement already satisfied: asttokens>=2.1.0 in /Users/davis/Library/Python/3.9/lib/python/site-packages (from stack-data->ipython>=6.1.0->ipywidgets<9,>=7.5.1->perspective-python) (2.2.1)\n",
      "Requirement already satisfied: pure-eval in /Users/davis/Library/Python/3.9/lib/python/site-packages (from stack-data->ipython>=6.1.0->ipywidgets<9,>=7.5.1->perspective-python) (0.2.2)\n",
      "Note: you may need to restart the kernel to use updated packages.\n"
     ]
    }
   ],
   "source": [
    "%pip install perspective-python pandas xarray netcdf4"
   ]
  },
  {
   "cell_type": "code",
   "execution_count": 2,
   "id": "98ce01b8-f4b3-482f-864f-7aa6c3b6fe51",
   "metadata": {
    "tags": []
   },
   "outputs": [],
   "source": [
    "from perspective import Table, PerspectiveWidget\n",
    "import pandas as pd # For data manipulation\n",
    "import xarray as xr # For parsing temperature data"
   ]
  },
  {
   "cell_type": "markdown",
   "id": "7d7fd274-779a-47f8-b498-1c84272d5f60",
   "metadata": {
    "tags": []
   },
   "source": [
    "## Global Temperature\n",
    "\n",
    "The first data in our story is of global temperature over time.\n",
    "The data is from [Berkeley Earth](https://berkeleyearth.org/data/) (the 5°x5° gridded global data).\n",
    "\n",
    "This is the most straightforward visualization, a climate heat-map."
   ]
  },
  {
   "cell_type": "code",
   "execution_count": 3,
   "id": "dd91c48f-9bd1-43d5-8c8f-f3ae266c7635",
   "metadata": {},
   "outputs": [],
   "source": [
    "nc = xr.open_dataset('temperature/temp.nc')\n",
    "df = nc.temperature.to_dataframe()\n",
    "# This flattens the indexing in the NetCDF file.\n",
    "df = pd.DataFrame(df.to_records())\n",
    "df.to_feather(\"temperature.arrow\")\n",
    "temperature = Table(df)"
   ]
  },
  {
   "cell_type": "code",
   "execution_count": 4,
   "id": "a741840c-c765-4679-9f9a-b29ca8f0bc61",
   "metadata": {},
   "outputs": [
    {
     "data": {
      "application/vnd.jupyter.widget-view+json": {
       "model_id": "37567549e39f4c5992bf9e68cff33abf",
       "version_major": 2,
       "version_minor": 0
      },
      "text/plain": [
       "PerspectiveWidget(columns=['index', 'time', 'latitude', 'longitude', 'temperature'], server=True, theme=None)"
      ]
     },
     "execution_count": 4,
     "metadata": {},
     "output_type": "execute_result"
    }
   ],
   "source": [
    "# with open(\"temperature.arrow\", 'rb') as f:\n",
    "#     feather = f.read()\n",
    "\n",
    "tw_map_layout = {\n",
    "    'filter': [['integer(\"time\")', '==', 2022]],\n",
    "    'columns': ['longitude', 'latitude', '- \"temperature\"', None, None],\n",
    "    'expressions': ['integer(\"time\")', '- \"temperature\"'],\n",
    "    'plugin': 'Map Scatter'\n",
    "}\n",
    "\n",
    "tw = PerspectiveWidget(temperature, server=True, **tw_map_layout)\n",
    "tw"
   ]
  },
  {
   "cell_type": "markdown",
   "id": "511406a3-2ada-42f2-8b63-0b3dcd6bb56b",
   "metadata": {},
   "source": [
    "Here we are showing anomalies of temperature. The darker red the dots, the hotter than expected. In fact, these data are quite huge! If you look at the top-bar you see we are processing ***5 MILLION*** rows of data in just a few seconds. \n",
    "This processing is done entirely in your browser, so congratulate yourself on your workhorse of a computer!\n",
    "\n",
    "Let's look at the average temperature anomaly over time!"
   ]
  },
  {
   "cell_type": "code",
   "execution_count": 5,
   "id": "994a4a22-e94c-4042-b324-059e426ff429",
   "metadata": {},
   "outputs": [
    {
     "data": {
      "application/vnd.jupyter.widget-view+json": {
       "model_id": "ac84e4a37e8444c49636470abeadd9b3",
       "version_major": 2,
       "version_minor": 0
      },
      "text/plain": [
       "PerspectiveWidget(aggregates={'temperature': 'avg'}, columns=['temperature'], expressions=['// year\\ninteger(\"…"
      ]
     },
     "execution_count": 5,
     "metadata": {},
     "output_type": "execute_result"
    }
   ],
   "source": [
    "ttsw_layout = {\n",
    "    'group_by': ['year'],\n",
    "    'aggregates': {'temperature': 'avg'},\n",
    "    'columns': ['temperature'],\n",
    "    'expressions': ['// year\\ninteger(\"time\")'],\n",
    "    'plugin': 'Y Line',\n",
    "    'title': 'Temperature Time Series'\n",
    "}\n",
    "\n",
    "ttsw = PerspectiveWidget(temperature, server=True, **ttsw_layout)\n",
    "ttsw"
   ]
  },
  {
   "cell_type": "markdown",
   "id": "1441fdf2-3c51-40a9-9a07-f22030c05684",
   "metadata": {},
   "source": [
    "Here we can see that the expected temperatures are growing over time. This is clearly a trend, there is not simple random anomly."
   ]
  },
  {
   "cell_type": "markdown",
   "id": "5b112bd1-c883-4407-9929-d9f7dd7df7a2",
   "metadata": {},
   "source": [
    "So what does rising temperature mean? It can mean hotter summers, disrupted plant cycles, and flooding of coastal cities, among others. In the context of telling a story, let's dive into one of those points: the flooding. To do this, we turn to our next dataset, glacier temperatures."
   ]
  },
  {
   "cell_type": "markdown",
   "id": "f7a577c1-1dd3-4943-9b65-46046ee4fada",
   "metadata": {},
   "source": [
    "# Glaciers\n",
    "\n",
    "This data is sourced from the \n",
    "[United States Geological Survey](https://alaska.usgs.gov/products/data.php?dataid=79).\n",
    "\n",
    "We will start with some light data-preparation. Simply concatenating all the CSVs and outputting to the efficient Arrow format, that Perspective understands natively."
   ]
  },
  {
   "cell_type": "code",
   "execution_count": 6,
   "id": "7e8b34ac-4a04-474c-ae63-e6a6f2bc3bf6",
   "metadata": {
    "tags": []
   },
   "outputs": [],
   "source": [
    "dfs = []\n",
    "for g in [\"Gulkana\", \"LemonCreek\", \"Sperry\", \"Wolverine\"]:\n",
    "    p = f\"glaciers/{g}/Input_{g}_Daily_Weather.csv\"\n",
    "    df = pd.read_csv(p, parse_dates=['Date'])\n",
    "    df[\"Glacier\"] = g\n",
    "    del df[\"Precipitation\"]\n",
    "    dfs.append(df)\n",
    "weather = pd.concat(dfs, ignore_index=True)\n",
    "weather.to_feather(\"./glacier_daily_weather.arrow\")\n",
    "weather = Table(weather)\n"
   ]
  },
  {
   "cell_type": "markdown",
   "id": "0135d4bf-7b16-4054-9a42-644a47eaf3e4",
   "metadata": {},
   "source": [
    "It was quite easy to take these CSVs and merge them together. We can then plot this data directly into perspective."
   ]
  },
  {
   "cell_type": "code",
   "execution_count": 7,
   "id": "330826ca-4218-40b6-8286-c7f6a0be50df",
   "metadata": {
    "scrolled": true
   },
   "outputs": [
    {
     "data": {
      "application/vnd.jupyter.widget-view+json": {
       "model_id": "feeca9866d29415d987c1e77af725e7d",
       "version_major": 2,
       "version_minor": 0
      },
      "text/plain": [
       "PerspectiveWidget(aggregates={'Temperature': 'avg'}, columns=['Temperature'], expressions=['bucket(\"Date\", \\'Y…"
      ]
     },
     "execution_count": 7,
     "metadata": {},
     "output_type": "execute_result"
    }
   ],
   "source": [
    "# with open(\"glacier_daily_weather.arrow\", 'rb') as f:\n",
    "#     feather = f.read()\n",
    "\n",
    "ww_layout = {\n",
    "    'group_by': ['bucket(\"Date\", \\'Y\\')'],\n",
    "    'split_by': ['Glacier'],\n",
    "    'aggregates': {'Temperature': 'avg'},\n",
    "    'columns': ['Temperature'],\n",
    "    'expressions': ['bucket(\"Date\", \\'Y\\')'],\n",
    "    'plugin': 'Y Line'\n",
    "}\n",
    "\n",
    "ww = PerspectiveWidget(weather, server=True, **ww_layout)\n",
    "ww"
   ]
  },
  {
   "cell_type": "markdown",
   "id": "820ccb83-2ebb-4874-aaa9-96a3e031e006",
   "metadata": {},
   "source": [
    "Here, we are looking at yearly average temperatures for 4 different glaciers in Alaska. In Perspective this was done by using the \"avg\" aggregator, and bucketing our dates by the year. By converting the data to arrow (and doing some light [pre-processing](https://prospective.co/blog/preparing-data-to-be-used-in-prospective)), we can load and process all 75,000 rows quite quickly. The chart above is completely live, go play with the configuration!\n",
    "\n",
    "Here, we can see that Glaciers are spending a lot of time above melting-point. What does this mean?\n",
    "Melting Alaskan glaciers are believed to contribute somewhere between 10% and 30% of global sea water ([source](https://www.nature.com/articles/ngeo737/)), with other main sources including Arctic and Greenland glaciers.\n",
    "\n",
    "Let's round out this story with a main contributor to this glacial melting: fossil fuel usage."
   ]
  },
  {
   "cell_type": "markdown",
   "id": "b2b5889a-9a29-4252-8e5c-4f5d195b4ff1",
   "metadata": {},
   "source": [
    "## Fossil Fuels\n",
    "\n",
    "One of the main ways we can begin to transition from fossil fuels is with renewable energy.\n",
    "Every year we make extremely impactful advances on the path to sustainability through \n",
    "renewable energy and better local and global programs.\n",
    "\n",
    "But the only way we can truly prevent a climate tragedy is to divest from fossil fuels.\n",
    "If we are still using fossil fuels, then we are not going to fully solve our problems.\n",
    "Let's look at how much energy we use, and see if there is any good stories here.\n",
    "\n",
    "Data from \n",
    "https://ourworldindata.org/grapher/energy-consumption-by-source-and-country"
   ]
  },
  {
   "cell_type": "code",
   "execution_count": 8,
   "id": "c933e591-09ba-4d74-ace0-f7f147f89288",
   "metadata": {},
   "outputs": [
    {
     "ename": "FileNotFoundError",
     "evalue": "[Errno 2] No such file or directory: 'energy.csv'",
     "output_type": "error",
     "traceback": [
      "\u001b[0;31m---------------------------------------------------------------------------\u001b[0m",
      "\u001b[0;31mFileNotFoundError\u001b[0m                         Traceback (most recent call last)",
      "Cell \u001b[0;32mIn[8], line 1\u001b[0m\n\u001b[0;32m----> 1\u001b[0m df \u001b[38;5;241m=\u001b[39m \u001b[43mpd\u001b[49m\u001b[38;5;241;43m.\u001b[39;49m\u001b[43mread_csv\u001b[49m\u001b[43m(\u001b[49m\u001b[38;5;124;43m\"\u001b[39;49m\u001b[38;5;124;43menergy.csv\u001b[39;49m\u001b[38;5;124;43m\"\u001b[39;49m\u001b[43m)\u001b[49m\n\u001b[1;32m      2\u001b[0m \u001b[38;5;66;03m# Unpivot the data given by the source.\u001b[39;00m\n\u001b[1;32m      3\u001b[0m df \u001b[38;5;241m=\u001b[39m df\u001b[38;5;241m.\u001b[39mmelt(value_vars\u001b[38;5;241m=\u001b[39mdf\u001b[38;5;241m.\u001b[39mcolumns[\u001b[38;5;241m3\u001b[39m:], \n\u001b[1;32m      4\u001b[0m              id_vars\u001b[38;5;241m=\u001b[39mdf\u001b[38;5;241m.\u001b[39mcolumns[:\u001b[38;5;241m3\u001b[39m], \n\u001b[1;32m      5\u001b[0m              var_name\u001b[38;5;241m=\u001b[39m\u001b[38;5;124m\"\u001b[39m\u001b[38;5;124mType\u001b[39m\u001b[38;5;124m\"\u001b[39m,\n\u001b[1;32m      6\u001b[0m              value_name\u001b[38;5;241m=\u001b[39m\u001b[38;5;124m\"\u001b[39m\u001b[38;5;124mTWh\u001b[39m\u001b[38;5;124m\"\u001b[39m)\n",
      "File \u001b[0;32m~/Library/Python/3.9/lib/python/site-packages/pandas/util/_decorators.py:211\u001b[0m, in \u001b[0;36mdeprecate_kwarg.<locals>._deprecate_kwarg.<locals>.wrapper\u001b[0;34m(*args, **kwargs)\u001b[0m\n\u001b[1;32m    209\u001b[0m     \u001b[38;5;28;01melse\u001b[39;00m:\n\u001b[1;32m    210\u001b[0m         kwargs[new_arg_name] \u001b[38;5;241m=\u001b[39m new_arg_value\n\u001b[0;32m--> 211\u001b[0m \u001b[38;5;28;01mreturn\u001b[39;00m \u001b[43mfunc\u001b[49m\u001b[43m(\u001b[49m\u001b[38;5;241;43m*\u001b[39;49m\u001b[43margs\u001b[49m\u001b[43m,\u001b[49m\u001b[43m \u001b[49m\u001b[38;5;241;43m*\u001b[39;49m\u001b[38;5;241;43m*\u001b[39;49m\u001b[43mkwargs\u001b[49m\u001b[43m)\u001b[49m\n",
      "File \u001b[0;32m~/Library/Python/3.9/lib/python/site-packages/pandas/util/_decorators.py:331\u001b[0m, in \u001b[0;36mdeprecate_nonkeyword_arguments.<locals>.decorate.<locals>.wrapper\u001b[0;34m(*args, **kwargs)\u001b[0m\n\u001b[1;32m    325\u001b[0m \u001b[38;5;28;01mif\u001b[39;00m \u001b[38;5;28mlen\u001b[39m(args) \u001b[38;5;241m>\u001b[39m num_allow_args:\n\u001b[1;32m    326\u001b[0m     warnings\u001b[38;5;241m.\u001b[39mwarn(\n\u001b[1;32m    327\u001b[0m         msg\u001b[38;5;241m.\u001b[39mformat(arguments\u001b[38;5;241m=\u001b[39m_format_argument_list(allow_args)),\n\u001b[1;32m    328\u001b[0m         \u001b[38;5;167;01mFutureWarning\u001b[39;00m,\n\u001b[1;32m    329\u001b[0m         stacklevel\u001b[38;5;241m=\u001b[39mfind_stack_level(),\n\u001b[1;32m    330\u001b[0m     )\n\u001b[0;32m--> 331\u001b[0m \u001b[38;5;28;01mreturn\u001b[39;00m \u001b[43mfunc\u001b[49m\u001b[43m(\u001b[49m\u001b[38;5;241;43m*\u001b[39;49m\u001b[43margs\u001b[49m\u001b[43m,\u001b[49m\u001b[43m \u001b[49m\u001b[38;5;241;43m*\u001b[39;49m\u001b[38;5;241;43m*\u001b[39;49m\u001b[43mkwargs\u001b[49m\u001b[43m)\u001b[49m\n",
      "File \u001b[0;32m~/Library/Python/3.9/lib/python/site-packages/pandas/io/parsers/readers.py:950\u001b[0m, in \u001b[0;36mread_csv\u001b[0;34m(filepath_or_buffer, sep, delimiter, header, names, index_col, usecols, squeeze, prefix, mangle_dupe_cols, dtype, engine, converters, true_values, false_values, skipinitialspace, skiprows, skipfooter, nrows, na_values, keep_default_na, na_filter, verbose, skip_blank_lines, parse_dates, infer_datetime_format, keep_date_col, date_parser, dayfirst, cache_dates, iterator, chunksize, compression, thousands, decimal, lineterminator, quotechar, quoting, doublequote, escapechar, comment, encoding, encoding_errors, dialect, error_bad_lines, warn_bad_lines, on_bad_lines, delim_whitespace, low_memory, memory_map, float_precision, storage_options)\u001b[0m\n\u001b[1;32m    935\u001b[0m kwds_defaults \u001b[38;5;241m=\u001b[39m _refine_defaults_read(\n\u001b[1;32m    936\u001b[0m     dialect,\n\u001b[1;32m    937\u001b[0m     delimiter,\n\u001b[0;32m   (...)\u001b[0m\n\u001b[1;32m    946\u001b[0m     defaults\u001b[38;5;241m=\u001b[39m{\u001b[38;5;124m\"\u001b[39m\u001b[38;5;124mdelimiter\u001b[39m\u001b[38;5;124m\"\u001b[39m: \u001b[38;5;124m\"\u001b[39m\u001b[38;5;124m,\u001b[39m\u001b[38;5;124m\"\u001b[39m},\n\u001b[1;32m    947\u001b[0m )\n\u001b[1;32m    948\u001b[0m kwds\u001b[38;5;241m.\u001b[39mupdate(kwds_defaults)\n\u001b[0;32m--> 950\u001b[0m \u001b[38;5;28;01mreturn\u001b[39;00m \u001b[43m_read\u001b[49m\u001b[43m(\u001b[49m\u001b[43mfilepath_or_buffer\u001b[49m\u001b[43m,\u001b[49m\u001b[43m \u001b[49m\u001b[43mkwds\u001b[49m\u001b[43m)\u001b[49m\n",
      "File \u001b[0;32m~/Library/Python/3.9/lib/python/site-packages/pandas/io/parsers/readers.py:605\u001b[0m, in \u001b[0;36m_read\u001b[0;34m(filepath_or_buffer, kwds)\u001b[0m\n\u001b[1;32m    602\u001b[0m _validate_names(kwds\u001b[38;5;241m.\u001b[39mget(\u001b[38;5;124m\"\u001b[39m\u001b[38;5;124mnames\u001b[39m\u001b[38;5;124m\"\u001b[39m, \u001b[38;5;28;01mNone\u001b[39;00m))\n\u001b[1;32m    604\u001b[0m \u001b[38;5;66;03m# Create the parser.\u001b[39;00m\n\u001b[0;32m--> 605\u001b[0m parser \u001b[38;5;241m=\u001b[39m \u001b[43mTextFileReader\u001b[49m\u001b[43m(\u001b[49m\u001b[43mfilepath_or_buffer\u001b[49m\u001b[43m,\u001b[49m\u001b[43m \u001b[49m\u001b[38;5;241;43m*\u001b[39;49m\u001b[38;5;241;43m*\u001b[39;49m\u001b[43mkwds\u001b[49m\u001b[43m)\u001b[49m\n\u001b[1;32m    607\u001b[0m \u001b[38;5;28;01mif\u001b[39;00m chunksize \u001b[38;5;129;01mor\u001b[39;00m iterator:\n\u001b[1;32m    608\u001b[0m     \u001b[38;5;28;01mreturn\u001b[39;00m parser\n",
      "File \u001b[0;32m~/Library/Python/3.9/lib/python/site-packages/pandas/io/parsers/readers.py:1442\u001b[0m, in \u001b[0;36mTextFileReader.__init__\u001b[0;34m(self, f, engine, **kwds)\u001b[0m\n\u001b[1;32m   1439\u001b[0m     \u001b[38;5;28mself\u001b[39m\u001b[38;5;241m.\u001b[39moptions[\u001b[38;5;124m\"\u001b[39m\u001b[38;5;124mhas_index_names\u001b[39m\u001b[38;5;124m\"\u001b[39m] \u001b[38;5;241m=\u001b[39m kwds[\u001b[38;5;124m\"\u001b[39m\u001b[38;5;124mhas_index_names\u001b[39m\u001b[38;5;124m\"\u001b[39m]\n\u001b[1;32m   1441\u001b[0m \u001b[38;5;28mself\u001b[39m\u001b[38;5;241m.\u001b[39mhandles: IOHandles \u001b[38;5;241m|\u001b[39m \u001b[38;5;28;01mNone\u001b[39;00m \u001b[38;5;241m=\u001b[39m \u001b[38;5;28;01mNone\u001b[39;00m\n\u001b[0;32m-> 1442\u001b[0m \u001b[38;5;28mself\u001b[39m\u001b[38;5;241m.\u001b[39m_engine \u001b[38;5;241m=\u001b[39m \u001b[38;5;28;43mself\u001b[39;49m\u001b[38;5;241;43m.\u001b[39;49m\u001b[43m_make_engine\u001b[49m\u001b[43m(\u001b[49m\u001b[43mf\u001b[49m\u001b[43m,\u001b[49m\u001b[43m \u001b[49m\u001b[38;5;28;43mself\u001b[39;49m\u001b[38;5;241;43m.\u001b[39;49m\u001b[43mengine\u001b[49m\u001b[43m)\u001b[49m\n",
      "File \u001b[0;32m~/Library/Python/3.9/lib/python/site-packages/pandas/io/parsers/readers.py:1735\u001b[0m, in \u001b[0;36mTextFileReader._make_engine\u001b[0;34m(self, f, engine)\u001b[0m\n\u001b[1;32m   1733\u001b[0m     \u001b[38;5;28;01mif\u001b[39;00m \u001b[38;5;124m\"\u001b[39m\u001b[38;5;124mb\u001b[39m\u001b[38;5;124m\"\u001b[39m \u001b[38;5;129;01mnot\u001b[39;00m \u001b[38;5;129;01min\u001b[39;00m mode:\n\u001b[1;32m   1734\u001b[0m         mode \u001b[38;5;241m+\u001b[39m\u001b[38;5;241m=\u001b[39m \u001b[38;5;124m\"\u001b[39m\u001b[38;5;124mb\u001b[39m\u001b[38;5;124m\"\u001b[39m\n\u001b[0;32m-> 1735\u001b[0m \u001b[38;5;28mself\u001b[39m\u001b[38;5;241m.\u001b[39mhandles \u001b[38;5;241m=\u001b[39m \u001b[43mget_handle\u001b[49m\u001b[43m(\u001b[49m\n\u001b[1;32m   1736\u001b[0m \u001b[43m    \u001b[49m\u001b[43mf\u001b[49m\u001b[43m,\u001b[49m\n\u001b[1;32m   1737\u001b[0m \u001b[43m    \u001b[49m\u001b[43mmode\u001b[49m\u001b[43m,\u001b[49m\n\u001b[1;32m   1738\u001b[0m \u001b[43m    \u001b[49m\u001b[43mencoding\u001b[49m\u001b[38;5;241;43m=\u001b[39;49m\u001b[38;5;28;43mself\u001b[39;49m\u001b[38;5;241;43m.\u001b[39;49m\u001b[43moptions\u001b[49m\u001b[38;5;241;43m.\u001b[39;49m\u001b[43mget\u001b[49m\u001b[43m(\u001b[49m\u001b[38;5;124;43m\"\u001b[39;49m\u001b[38;5;124;43mencoding\u001b[39;49m\u001b[38;5;124;43m\"\u001b[39;49m\u001b[43m,\u001b[49m\u001b[43m \u001b[49m\u001b[38;5;28;43;01mNone\u001b[39;49;00m\u001b[43m)\u001b[49m\u001b[43m,\u001b[49m\n\u001b[1;32m   1739\u001b[0m \u001b[43m    \u001b[49m\u001b[43mcompression\u001b[49m\u001b[38;5;241;43m=\u001b[39;49m\u001b[38;5;28;43mself\u001b[39;49m\u001b[38;5;241;43m.\u001b[39;49m\u001b[43moptions\u001b[49m\u001b[38;5;241;43m.\u001b[39;49m\u001b[43mget\u001b[49m\u001b[43m(\u001b[49m\u001b[38;5;124;43m\"\u001b[39;49m\u001b[38;5;124;43mcompression\u001b[39;49m\u001b[38;5;124;43m\"\u001b[39;49m\u001b[43m,\u001b[49m\u001b[43m \u001b[49m\u001b[38;5;28;43;01mNone\u001b[39;49;00m\u001b[43m)\u001b[49m\u001b[43m,\u001b[49m\n\u001b[1;32m   1740\u001b[0m \u001b[43m    \u001b[49m\u001b[43mmemory_map\u001b[49m\u001b[38;5;241;43m=\u001b[39;49m\u001b[38;5;28;43mself\u001b[39;49m\u001b[38;5;241;43m.\u001b[39;49m\u001b[43moptions\u001b[49m\u001b[38;5;241;43m.\u001b[39;49m\u001b[43mget\u001b[49m\u001b[43m(\u001b[49m\u001b[38;5;124;43m\"\u001b[39;49m\u001b[38;5;124;43mmemory_map\u001b[39;49m\u001b[38;5;124;43m\"\u001b[39;49m\u001b[43m,\u001b[49m\u001b[43m \u001b[49m\u001b[38;5;28;43;01mFalse\u001b[39;49;00m\u001b[43m)\u001b[49m\u001b[43m,\u001b[49m\n\u001b[1;32m   1741\u001b[0m \u001b[43m    \u001b[49m\u001b[43mis_text\u001b[49m\u001b[38;5;241;43m=\u001b[39;49m\u001b[43mis_text\u001b[49m\u001b[43m,\u001b[49m\n\u001b[1;32m   1742\u001b[0m \u001b[43m    \u001b[49m\u001b[43merrors\u001b[49m\u001b[38;5;241;43m=\u001b[39;49m\u001b[38;5;28;43mself\u001b[39;49m\u001b[38;5;241;43m.\u001b[39;49m\u001b[43moptions\u001b[49m\u001b[38;5;241;43m.\u001b[39;49m\u001b[43mget\u001b[49m\u001b[43m(\u001b[49m\u001b[38;5;124;43m\"\u001b[39;49m\u001b[38;5;124;43mencoding_errors\u001b[39;49m\u001b[38;5;124;43m\"\u001b[39;49m\u001b[43m,\u001b[49m\u001b[43m \u001b[49m\u001b[38;5;124;43m\"\u001b[39;49m\u001b[38;5;124;43mstrict\u001b[39;49m\u001b[38;5;124;43m\"\u001b[39;49m\u001b[43m)\u001b[49m\u001b[43m,\u001b[49m\n\u001b[1;32m   1743\u001b[0m \u001b[43m    \u001b[49m\u001b[43mstorage_options\u001b[49m\u001b[38;5;241;43m=\u001b[39;49m\u001b[38;5;28;43mself\u001b[39;49m\u001b[38;5;241;43m.\u001b[39;49m\u001b[43moptions\u001b[49m\u001b[38;5;241;43m.\u001b[39;49m\u001b[43mget\u001b[49m\u001b[43m(\u001b[49m\u001b[38;5;124;43m\"\u001b[39;49m\u001b[38;5;124;43mstorage_options\u001b[39;49m\u001b[38;5;124;43m\"\u001b[39;49m\u001b[43m,\u001b[49m\u001b[43m \u001b[49m\u001b[38;5;28;43;01mNone\u001b[39;49;00m\u001b[43m)\u001b[49m\u001b[43m,\u001b[49m\n\u001b[1;32m   1744\u001b[0m \u001b[43m\u001b[49m\u001b[43m)\u001b[49m\n\u001b[1;32m   1745\u001b[0m \u001b[38;5;28;01massert\u001b[39;00m \u001b[38;5;28mself\u001b[39m\u001b[38;5;241m.\u001b[39mhandles \u001b[38;5;129;01mis\u001b[39;00m \u001b[38;5;129;01mnot\u001b[39;00m \u001b[38;5;28;01mNone\u001b[39;00m\n\u001b[1;32m   1746\u001b[0m f \u001b[38;5;241m=\u001b[39m \u001b[38;5;28mself\u001b[39m\u001b[38;5;241m.\u001b[39mhandles\u001b[38;5;241m.\u001b[39mhandle\n",
      "File \u001b[0;32m~/Library/Python/3.9/lib/python/site-packages/pandas/io/common.py:856\u001b[0m, in \u001b[0;36mget_handle\u001b[0;34m(path_or_buf, mode, encoding, compression, memory_map, is_text, errors, storage_options)\u001b[0m\n\u001b[1;32m    851\u001b[0m \u001b[38;5;28;01melif\u001b[39;00m \u001b[38;5;28misinstance\u001b[39m(handle, \u001b[38;5;28mstr\u001b[39m):\n\u001b[1;32m    852\u001b[0m     \u001b[38;5;66;03m# Check whether the filename is to be opened in binary mode.\u001b[39;00m\n\u001b[1;32m    853\u001b[0m     \u001b[38;5;66;03m# Binary mode does not support 'encoding' and 'newline'.\u001b[39;00m\n\u001b[1;32m    854\u001b[0m     \u001b[38;5;28;01mif\u001b[39;00m ioargs\u001b[38;5;241m.\u001b[39mencoding \u001b[38;5;129;01mand\u001b[39;00m \u001b[38;5;124m\"\u001b[39m\u001b[38;5;124mb\u001b[39m\u001b[38;5;124m\"\u001b[39m \u001b[38;5;129;01mnot\u001b[39;00m \u001b[38;5;129;01min\u001b[39;00m ioargs\u001b[38;5;241m.\u001b[39mmode:\n\u001b[1;32m    855\u001b[0m         \u001b[38;5;66;03m# Encoding\u001b[39;00m\n\u001b[0;32m--> 856\u001b[0m         handle \u001b[38;5;241m=\u001b[39m \u001b[38;5;28;43mopen\u001b[39;49m\u001b[43m(\u001b[49m\n\u001b[1;32m    857\u001b[0m \u001b[43m            \u001b[49m\u001b[43mhandle\u001b[49m\u001b[43m,\u001b[49m\n\u001b[1;32m    858\u001b[0m \u001b[43m            \u001b[49m\u001b[43mioargs\u001b[49m\u001b[38;5;241;43m.\u001b[39;49m\u001b[43mmode\u001b[49m\u001b[43m,\u001b[49m\n\u001b[1;32m    859\u001b[0m \u001b[43m            \u001b[49m\u001b[43mencoding\u001b[49m\u001b[38;5;241;43m=\u001b[39;49m\u001b[43mioargs\u001b[49m\u001b[38;5;241;43m.\u001b[39;49m\u001b[43mencoding\u001b[49m\u001b[43m,\u001b[49m\n\u001b[1;32m    860\u001b[0m \u001b[43m            \u001b[49m\u001b[43merrors\u001b[49m\u001b[38;5;241;43m=\u001b[39;49m\u001b[43merrors\u001b[49m\u001b[43m,\u001b[49m\n\u001b[1;32m    861\u001b[0m \u001b[43m            \u001b[49m\u001b[43mnewline\u001b[49m\u001b[38;5;241;43m=\u001b[39;49m\u001b[38;5;124;43m\"\u001b[39;49m\u001b[38;5;124;43m\"\u001b[39;49m\u001b[43m,\u001b[49m\n\u001b[1;32m    862\u001b[0m \u001b[43m        \u001b[49m\u001b[43m)\u001b[49m\n\u001b[1;32m    863\u001b[0m     \u001b[38;5;28;01melse\u001b[39;00m:\n\u001b[1;32m    864\u001b[0m         \u001b[38;5;66;03m# Binary mode\u001b[39;00m\n\u001b[1;32m    865\u001b[0m         handle \u001b[38;5;241m=\u001b[39m \u001b[38;5;28mopen\u001b[39m(handle, ioargs\u001b[38;5;241m.\u001b[39mmode)\n",
      "\u001b[0;31mFileNotFoundError\u001b[0m: [Errno 2] No such file or directory: 'energy.csv'"
     ]
    }
   ],
   "source": [
    "df = pd.read_csv(\"energy.csv\")\n",
    "# Unpivot the data given by the source.\n",
    "df = df.melt(value_vars=df.columns[3:], \n",
    "             id_vars=df.columns[:3], \n",
    "             var_name=\"Type\",\n",
    "             value_name=\"TWh\")\n",
    "df.to_feather(\"energy.arrow\")\n",
    "energy = Table(df)"
   ]
  },
  {
   "cell_type": "markdown",
   "id": "cc87ee0a-d1d1-466c-9a94-ede54f44afe7",
   "metadata": {},
   "source": [
    "In just a couple lines of code, we have a great dataset regarding energy usage globally."
   ]
  },
  {
   "cell_type": "code",
   "execution_count": null,
   "id": "d88dc54b-3510-440b-8fcb-54d842d71c79",
   "metadata": {},
   "outputs": [],
   "source": [
    "# with open(\"energy.arrow\", 'rb') as f:\n",
    "#     feather = f.read()\n",
    "\n",
    "# Some ExprTK Expressions to control \n",
    "# the output visualization\n",
    "continent = \"\"\"\n",
    "// Continent\n",
    "(\n",
    "    \"Entity\" == 'Africa' or\n",
    "    \"Entity\" == 'Asia' or\n",
    "    \"Entity\" == 'Europe' or\n",
    "    \"Entity\" == 'North America' or\n",
    "    \"Entity\" == 'Oceania' or\n",
    "    \"Entity\" == 'South America'\n",
    ")\n",
    "\"\"\".strip()\n",
    "\n",
    "fossils = \"\"\"\n",
    "// Fossil Fuels\n",
    "(\n",
    "    \"Type\" == 'Oil consumption - TWh' or\n",
    "    \"Type\" == 'Coal consumption - TWh' or\n",
    "    \"Type\" == 'Gas consumption - TWh'\n",
    ")\n",
    "\"\"\".strip()\n",
    "\n",
    "fw_layout = {\n",
    "    'group_by': ['Year'],\n",
    "    'split_by': ['Entity'],\n",
    "    'filter': [['Continent', '==', True], \n",
    "               ['Fossil Fuels', '==', True]],\n",
    "    'aggregates': {'TWh': 'avg'},\n",
    "    'columns': ['TWh'],\n",
    "    'expressions': [continent, fossils],\n",
    "    'plugin': 'Y Area',\n",
    "    'plugin_config': {'legend': {'left': '56px', 'top': '10px'}},\n",
    "}\n",
    "\n",
    "fw = PerspectiveWidget(energy, server=True, **fw_layout)\n",
    "fw"
   ]
  },
  {
   "cell_type": "markdown",
   "id": "674275b6-e935-4bdf-9bbb-f6d2f4324c91",
   "metadata": {},
   "source": [
    "We can see here that overall fossil fuel consumption is still rising. Of course, carbon consumption increasing means that the level of greenhouse gasses in the atmosphere will also increase.\n",
    "\n",
    "How about renewables?\n"
   ]
  },
  {
   "cell_type": "code",
   "execution_count": null,
   "id": "61ae87ae-cb38-43a2-9ba1-ccda7b4abdd2",
   "metadata": {
    "scrolled": true
   },
   "outputs": [],
   "source": [
    "\n",
    "layout_renewables = {\n",
    "    'group_by': ['Year'],\n",
    "    'split_by': ['Entity'],\n",
    "    'filter': [['Continent', '==', True], ['Fossil Fuels', '==', False]],\n",
    "    'aggregates': {'TWh': 'avg'},\n",
    "    'columns': ['TWh'],\n",
    "    'expressions': [continent, fossils],\n",
    "    'plugin': 'Y Area',\n",
    "    'plugin_config': {'legend': {'left': '56px', 'top': '10px'}},\n",
    "}\n",
    "renewables = PerspectiveWidget(energy, server=True, **layout_renewables)\n",
    "renewables"
   ]
  },
  {
   "cell_type": "markdown",
   "id": "dcab5f09-1a6b-4845-9c58-f72a24500e2f",
   "metadata": {},
   "source": [
    "\n",
    "It is amazing how fast we have all switched over to renewables! "
   ]
  },
  {
   "cell_type": "markdown",
   "id": "51ae227d-c384-440b-9806-eee316619f86",
   "metadata": {},
   "source": [
    "# Conclusion\n",
    "\n",
    "Today we have gone through a couple datasets, and weaved a story throughout.\n",
    "\n",
    "Prospective is the data visualization, data exploration, and story telling tool for all of your data.\n",
    "Easily embeddable, configurable, and lightweight, your story is just waiting to be told. Start now!"
   ]
  }
 ],
 "metadata": {
  "kernelspec": {
   "display_name": "Python 3 (ipykernel)",
   "language": "python",
   "name": "python3"
  },
  "language_info": {
   "codemirror_mode": {
    "name": "ipython",
    "version": 3
   },
   "file_extension": ".py",
   "mimetype": "text/x-python",
   "name": "python",
   "nbconvert_exporter": "python",
   "pygments_lexer": "ipython3",
   "version": "3.9.6"
  }
 },
 "nbformat": 4,
 "nbformat_minor": 5
}
